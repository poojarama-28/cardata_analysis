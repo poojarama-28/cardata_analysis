{
 "cells": [
  {
   "cell_type": "code",
   "execution_count": 3,
   "metadata": {},
   "outputs": [
    {
     "name": "stdout",
     "output_type": "stream",
     "text": [
      "Requirement already satisfied: pandas in c:\\users\\ifc-52\\appdata\\local\\programs\\python\\python313\\lib\\site-packages (2.2.3)\n",
      "Requirement already satisfied: numpy>=1.26.0 in c:\\users\\ifc-52\\appdata\\local\\programs\\python\\python313\\lib\\site-packages (from pandas) (2.2.3)\n",
      "Requirement already satisfied: python-dateutil>=2.8.2 in c:\\users\\ifc-52\\appdata\\local\\programs\\python\\python313\\lib\\site-packages (from pandas) (2.9.0.post0)\n",
      "Requirement already satisfied: pytz>=2020.1 in c:\\users\\ifc-52\\appdata\\local\\programs\\python\\python313\\lib\\site-packages (from pandas) (2025.1)\n",
      "Requirement already satisfied: tzdata>=2022.7 in c:\\users\\ifc-52\\appdata\\local\\programs\\python\\python313\\lib\\site-packages (from pandas) (2025.1)\n",
      "Requirement already satisfied: six>=1.5 in c:\\users\\ifc-52\\appdata\\local\\programs\\python\\python313\\lib\\site-packages (from python-dateutil>=2.8.2->pandas) (1.17.0)\n",
      "Note: you may need to restart the kernel to use updated packages.\n"
     ]
    },
    {
     "name": "stderr",
     "output_type": "stream",
     "text": [
      "\n",
      "[notice] A new release of pip is available: 24.3.1 -> 25.0.1\n",
      "[notice] To update, run: python.exe -m pip install --upgrade pip\n"
     ]
    }
   ],
   "source": [
    "%pip install pandas\n",
    "\n",
    "import pandas as pd \n",
    "import numpy as np \n",
    "\n",
    "df=pd.read_csv('car_data.csv')\n"
   ]
  },
  {
   "cell_type": "code",
   "execution_count": 10,
   "metadata": {},
   "outputs": [],
   "source": [
    "import matplotlib.pyplot as plt\n",
    "import seaborn as sns"
   ]
  },
  {
   "cell_type": "code",
   "execution_count": 4,
   "metadata": {},
   "outputs": [
    {
     "name": "stdout",
     "output_type": "stream",
     "text": [
      "  Car_Name  Year  Selling_Price  Present_Price  Kms_Driven Fuel_Type  \\\n",
      "0     ritz  2014           3.35           5.59       27000    Petrol   \n",
      "1      sx4  2013           4.75           9.54       43000    Diesel   \n",
      "2     ciaz  2017           7.25           9.85        6900    Petrol   \n",
      "3  wagon r  2011           2.85           4.15        5200    Petrol   \n",
      "4    swift  2014           4.60           6.87       42450    Diesel   \n",
      "\n",
      "  Seller_Type Transmission  Owner  \n",
      "0      Dealer       Manual      0  \n",
      "1      Dealer       Manual      0  \n",
      "2      Dealer       Manual      0  \n",
      "3      Dealer       Manual      0  \n",
      "4      Dealer       Manual      0  \n"
     ]
    }
   ],
   "source": [
    "print(df.head())"
   ]
  },
  {
   "cell_type": "code",
   "execution_count": 6,
   "metadata": {},
   "outputs": [
    {
     "name": "stdout",
     "output_type": "stream",
     "text": [
      "The lowest price at which a vehicle is sold is: 0.1\n"
     ]
    }
   ],
   "source": [
    "# lowest price to which a vehicle is sold\n",
    "lowest_price = df['Selling_Price'].min()\n",
    "print(f\"The lowest price at which a vehicle is sold is: {lowest_price}\")\n"
   ]
  },
  {
   "cell_type": "code",
   "execution_count": 7,
   "metadata": {},
   "outputs": [
    {
     "name": "stdout",
     "output_type": "stream",
     "text": [
      "The highest price at which a vehicle is sold is: 35.0\n"
     ]
    }
   ],
   "source": [
    "#highest price to which a vehicle is sold\n",
    "highest_price = df['Selling_Price'].max()\n",
    "print(f\"The highest price at which a vehicle is sold is: {highest_price}\")"
   ]
  },
  {
   "cell_type": "code",
   "execution_count": 9,
   "metadata": {},
   "outputs": [
    {
     "name": "stdout",
     "output_type": "stream",
     "text": [
      "<class 'pandas.core.frame.DataFrame'>\n",
      "RangeIndex: 301 entries, 0 to 300\n",
      "Data columns (total 9 columns):\n",
      " #   Column         Non-Null Count  Dtype  \n",
      "---  ------         --------------  -----  \n",
      " 0   Car_Name       301 non-null    object \n",
      " 1   Year           301 non-null    int64  \n",
      " 2   Selling_Price  301 non-null    float64\n",
      " 3   Present_Price  301 non-null    float64\n",
      " 4   Kms_Driven     301 non-null    int64  \n",
      " 5   Fuel_Type      301 non-null    object \n",
      " 6   Seller_Type    301 non-null    object \n",
      " 7   Transmission   301 non-null    object \n",
      " 8   Owner          301 non-null    int64  \n",
      "dtypes: float64(2), int64(3), object(4)\n",
      "memory usage: 21.3+ KB\n",
      "None\n"
     ]
    }
   ],
   "source": [
    "print(df.info())"
   ]
  },
  {
   "cell_type": "code",
   "execution_count": 8,
   "metadata": {},
   "outputs": [
    {
     "name": "stdout",
     "output_type": "stream",
     "text": [
      "              Year  Selling_Price  Present_Price     Kms_Driven       Owner\n",
      "count   301.000000     301.000000     301.000000     301.000000  301.000000\n",
      "mean   2013.627907       4.661296       7.628472   36947.205980    0.043189\n",
      "std       2.891554       5.082812       8.644115   38886.883882    0.247915\n",
      "min    2003.000000       0.100000       0.320000     500.000000    0.000000\n",
      "25%    2012.000000       0.900000       1.200000   15000.000000    0.000000\n",
      "50%    2014.000000       3.600000       6.400000   32000.000000    0.000000\n",
      "75%    2016.000000       6.000000       9.900000   48767.000000    0.000000\n",
      "max    2018.000000      35.000000      92.600000  500000.000000    3.000000\n"
     ]
    }
   ],
   "source": [
    "print(df.describe())"
   ]
  },
  {
   "cell_type": "code",
   "execution_count": 12,
   "metadata": {},
   "outputs": [
    {
     "data": {
      "text/plain": [
       "Car_Name         0\n",
       "Year             0\n",
       "Selling_Price    0\n",
       "Present_Price    0\n",
       "Kms_Driven       0\n",
       "Fuel_Type        0\n",
       "Seller_Type      0\n",
       "Transmission     0\n",
       "Owner            0\n",
       "dtype: int64"
      ]
     },
     "execution_count": 12,
     "metadata": {},
     "output_type": "execute_result"
    }
   ],
   "source": [
    "df.isnull().sum()"
   ]
  },
  {
   "cell_type": "code",
   "execution_count": 18,
   "metadata": {},
   "outputs": [
    {
     "name": "stdout",
     "output_type": "stream",
     "text": [
      "Manufacturing year range: 2003 - 2018\n"
     ]
    }
   ],
   "source": [
    "# 1. Manufacturing year range\n",
    "year_min = df[\"Year\"].min()\n",
    "year_max = df[\"Year\"].max()\n",
    "print(f\"Manufacturing year range: {year_min} - {year_max}\")\n"
   ]
  },
  {
   "cell_type": "code",
   "execution_count": 19,
   "metadata": {},
   "outputs": [
    {
     "name": "stdout",
     "output_type": "stream",
     "text": [
      "The lowest selling price is: 0.1\n"
     ]
    }
   ],
   "source": [
    "# 2. Lowest selling price\n",
    "lowest_price = df[\"Selling_Price\"].min()\n",
    "print(f\"The lowest selling price is: {lowest_price}\")"
   ]
  },
  {
   "cell_type": "code",
   "execution_count": 20,
   "metadata": {},
   "outputs": [
    {
     "name": "stdout",
     "output_type": "stream",
     "text": [
      "The highest selling price is: 35.0\n"
     ]
    }
   ],
   "source": [
    "# 3. Highest selling price\n",
    "highest_price = df[\"Selling_Price\"].max()\n",
    "print(f\"The highest selling price is: {highest_price}\")\n"
   ]
  },
  {
   "cell_type": "code",
   "execution_count": 21,
   "metadata": {},
   "outputs": [
    {
     "name": "stdout",
     "output_type": "stream",
     "text": [
      "The total number of records are: 301\n"
     ]
    }
   ],
   "source": [
    "# 4. Total records\n",
    "total_records = df.shape[0]\n",
    "print(f\"The total number of records are: {total_records}\")"
   ]
  },
  {
   "cell_type": "code",
   "execution_count": 22,
   "metadata": {},
   "outputs": [
    {
     "name": "stdout",
     "output_type": "stream",
     "text": [
      "The total number of missing records are: 0\n"
     ]
    }
   ],
   "source": [
    "# 5. Check for missing records\n",
    "missing_records = df.isnull().sum().sum()\n",
    "print(f\"The total number of missing records are: {missing_records}\")"
   ]
  },
  {
   "cell_type": "code",
   "execution_count": 23,
   "metadata": {},
   "outputs": [
    {
     "name": "stdout",
     "output_type": "stream",
     "text": [
      "The total number of unique vehicles are: 98\n"
     ]
    }
   ],
   "source": [
    "# 6. Count of different vehicles\n",
    "unique_vehicles = df[\"Car_Name\"].nunique()\n",
    "print(f\"The total number of unique vehicles are: {unique_vehicles}\")"
   ]
  },
  {
   "cell_type": "code",
   "execution_count": 24,
   "metadata": {},
   "outputs": [
    {
     "name": "stdout",
     "output_type": "stream",
     "text": [
      "The most sold vehicle is: city\n"
     ]
    }
   ],
   "source": [
    "# 7. Most sold vehicle\n",
    "most_sold_vehicle = df[\"Car_Name\"].value_counts().idxmax()\n",
    "print(f\"The most sold vehicle is: {most_sold_vehicle}\")\n"
   ]
  },
  {
   "cell_type": "code",
   "execution_count": 26,
   "metadata": {},
   "outputs": [
    {
     "name": "stdout",
     "output_type": "stream",
     "text": [
      "The total number of CNG vehicles are: 2\n"
     ]
    }
   ],
   "source": [
    "# 8. Count of CNG vehicles\n",
    "cng_vehicle_count = df[df[\"Fuel_Type\"] == \"CNG\"].shape[0]\n",
    "print(f\"The total number of CNG vehicles are: {cng_vehicle_count}\")"
   ]
  },
  {
   "cell_type": "code",
   "execution_count": 27,
   "metadata": {},
   "outputs": [
    {
     "name": "stdout",
     "output_type": "stream",
     "text": [
      "The total number of vehicles sold by individuals are: 106\n"
     ]
    }
   ],
   "source": [
    "\n",
    "# 9. Vehicles sold by individuals\n",
    "individual_sales_count = df[df[\"Seller_Type\"] == \"Individual\"].shape[0]\n",
    "print(f\"The total number of vehicles sold by individuals are: {individual_sales_count}\")"
   ]
  },
  {
   "cell_type": "code",
   "execution_count": 28,
   "metadata": {},
   "outputs": [
    {
     "name": "stdout",
     "output_type": "stream",
     "text": [
      "The total number of auto transmission vehicles are: 40\n"
     ]
    }
   ],
   "source": [
    "# 10. Auto transmission vehicles count\n",
    "auto_transmission_count = df[df[\"Transmission\"] == \"Automatic\"].shape[0]\n",
    "print(f\"The total number of auto transmission vehicles are: {auto_transmission_count}\")"
   ]
  },
  {
   "cell_type": "code",
   "execution_count": 29,
   "metadata": {},
   "outputs": [
    {
     "name": "stdout",
     "output_type": "stream",
     "text": [
      "The total number of single owner vehicles are: 290\n"
     ]
    }
   ],
   "source": [
    "# 11. Single owner vehicles count\n",
    "single_owner_count = df[df[\"Owner\"] == 0].shape[0]\n",
    "print(f\"The total number of single owner vehicles are: {single_owner_count}\")"
   ]
  },
  {
   "cell_type": "code",
   "execution_count": 33,
   "metadata": {},
   "outputs": [
    {
     "name": "stdout",
     "output_type": "stream",
     "text": [
      "Car_Name        land cruiser\n",
      "Depreciation            57.6\n",
      "Name: 86, dtype: object\n",
      "Car_Name        Honda Activa 4G\n",
      "Depreciation               0.03\n",
      "Name: 155, dtype: object\n"
     ]
    }
   ],
   "source": [
    "# 12. Most and least cost depreciated vehicle\n",
    "df[\"Depreciation\"] = df[\"Present_Price\"] - df[\"Selling_Price\"]\n",
    "most_depreciated_vehicle = df.loc[df[\"Depreciation\"].idxmax(), [\"Car_Name\", \"Depreciation\"]]\n",
    "least_depreciated_vehicle = df.loc[df[\"Depreciation\"].idxmin(), [\"Car_Name\", \"Depreciation\"]]\n",
    "\n",
    "print(most_depreciated_vehicle)\n",
    "print(least_depreciated_vehicle)\n"
   ]
  },
  {
   "cell_type": "code",
   "execution_count": 31,
   "metadata": {},
   "outputs": [
    {
     "name": "stdout",
     "output_type": "stream",
     "text": [
      "    Car_Name  Year  Selling_Price  Present_Price  Kms_Driven Fuel_Type  \\\n",
      "0       ritz  2014           3.35           5.59       27000    Petrol   \n",
      "1        sx4  2013           4.75           9.54       43000    Diesel   \n",
      "2       ciaz  2017           7.25           9.85        6900    Petrol   \n",
      "3    wagon r  2011           2.85           4.15        5200    Petrol   \n",
      "4      swift  2014           4.60           6.87       42450    Diesel   \n",
      "..       ...   ...            ...            ...         ...       ...   \n",
      "296     city  2016           9.50          11.60       33988    Diesel   \n",
      "297     brio  2015           4.00           5.90       60000    Petrol   \n",
      "298     city  2009           3.35          11.00       87934    Petrol   \n",
      "299     city  2017          11.50          12.50        9000    Diesel   \n",
      "300     brio  2016           5.30           5.90        5464    Petrol   \n",
      "\n",
      "    Seller_Type Transmission  Owner  Depreciation  \n",
      "0        Dealer       Manual      0          2.24  \n",
      "1        Dealer       Manual      0          4.79  \n",
      "2        Dealer       Manual      0          2.60  \n",
      "3        Dealer       Manual      0          1.30  \n",
      "4        Dealer       Manual      0          2.27  \n",
      "..          ...          ...    ...           ...  \n",
      "296      Dealer       Manual      0          2.10  \n",
      "297      Dealer       Manual      0          1.90  \n",
      "298      Dealer       Manual      0          7.65  \n",
      "299      Dealer       Manual      0          1.00  \n",
      "300      Dealer       Manual      0          0.60  \n",
      "\n",
      "[301 rows x 10 columns]\n"
     ]
    }
   ],
   "source": [
    "# 13. Filter only cars from the dataset\n",
    "car_data = df[~df[\"Car_Name\"].str.contains(\"bike|scooter\", case=False, na=False)]\n",
    "print(car_data)"
   ]
  },
  {
   "cell_type": "code",
   "execution_count": 32,
   "metadata": {},
   "outputs": [
    {
     "name": "stdout",
     "output_type": "stream",
     "text": [
      "Car_Name     800\n",
      "Year        2003\n",
      "Name: 37, dtype: object\n",
      "Car_Name    vitara brezza\n",
      "Year                 2018\n",
      "Name: 5, dtype: object\n"
     ]
    }
   ],
   "source": [
    "# 14. Oldest and newest car sold\n",
    "oldest_car = car_data.loc[car_data[\"Year\"].idxmin(), [\"Car_Name\", \"Year\"]]\n",
    "newest_car = car_data.loc[car_data[\"Year\"].idxmax(), [\"Car_Name\", \"Year\"]]\n",
    "print(oldest_car)\n",
    "print(newest_car)"
   ]
  },
  {
   "cell_type": "code",
   "execution_count": 38,
   "metadata": {},
   "outputs": [
    {
     "name": "stdout",
     "output_type": "stream",
     "text": [
      "Empty DataFrame\n",
      "Columns: [Car_Name, Year, Selling_Price, Present_Price, Kms_Driven, Fuel_Type, Seller_Type, Transmission, Owner, Depreciation]\n",
      "Index: []\n"
     ]
    }
   ],
   "source": [
    "# 15. Filter only two-wheelers from the dataset\n",
    "bike_data = df[df[\"Car_Name\"].str.contains(\"bike|scooter\", case=False, na=False)]\n",
    "print(bike_data)\n"
   ]
  },
  {
   "cell_type": "code",
   "execution_count": 34,
   "metadata": {},
   "outputs": [
    {
     "name": "stdout",
     "output_type": "stream",
     "text": [
      "None\n",
      "None\n"
     ]
    }
   ],
   "source": [
    "# 16. Oldest and newest bike sold\n",
    "oldest_bike = bike_data.loc[bike_data[\"Year\"].idxmin(), [\"Car_Name\", \"Year\"]] if not bike_data.empty else None\n",
    "newest_bike = bike_data.loc[bike_data[\"Year\"].idxmax(), [\"Car_Name\", \"Year\"]] if not bike_data.empty else None\n",
    "print(oldest_bike)\n",
    "print(newest_bike)"
   ]
  },
  {
   "cell_type": "code",
   "execution_count": 36,
   "metadata": {},
   "outputs": [
    {
     "name": "stdout",
     "output_type": "stream",
     "text": [
      "None\n"
     ]
    }
   ],
   "source": [
    "#17. Most sold bike\n",
    "most_sold_bike = bike_data[\"Car_Name\"].value_counts().idxmax() if not bike_data.empty else None\n",
    "print(most_sold_bike)"
   ]
  },
  {
   "cell_type": "code",
   "execution_count": 37,
   "metadata": {},
   "outputs": [
    {
     "name": "stdout",
     "output_type": "stream",
     "text": [
      "0.2361409801604347\n",
      "0.02918709067429124\n"
     ]
    }
   ],
   "source": [
    "# 18. General cost depreciation trend\n",
    "correlation_age_price = df[[\"Year\", \"Selling_Price\"]].corr().iloc[0, 1]\n",
    "correlation_kms_price = df[[\"Kms_Driven\", \"Selling_Price\"]].corr().iloc[0, 1]\n",
    "print(correlation_age_price)\n",
    "print(correlation_kms_price)"
   ]
  },
  {
   "cell_type": "code",
   "execution_count": null,
   "metadata": {},
   "outputs": [],
   "source": []
  }
 ],
 "metadata": {
  "kernelspec": {
   "display_name": "Python 3",
   "language": "python",
   "name": "python3"
  },
  "language_info": {
   "codemirror_mode": {
    "name": "ipython",
    "version": 3
   },
   "file_extension": ".py",
   "mimetype": "text/x-python",
   "name": "python",
   "nbconvert_exporter": "python",
   "pygments_lexer": "ipython3",
   "version": "3.13.1"
  }
 },
 "nbformat": 4,
 "nbformat_minor": 2
}
